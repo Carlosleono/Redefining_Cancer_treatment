{
 "cells": [
  {
   "cell_type": "code",
   "execution_count": 37,
   "id": "356bccf6",
   "metadata": {},
   "outputs": [
    {
     "name": "stdout",
     "output_type": "stream",
     "text": [
      "Collecting requests\n",
      "  Using cached requests-2.26.0-py2.py3-none-any.whl (62 kB)\n",
      "Collecting idna<4,>=2.5\n",
      "  Using cached idna-3.3-py3-none-any.whl (61 kB)\n",
      "Collecting charset-normalizer~=2.0.0\n",
      "  Downloading charset_normalizer-2.0.9-py3-none-any.whl (39 kB)\n",
      "Requirement already satisfied: certifi>=2017.4.17 in /home/cleonortiz/anaconda3/envs/computerv/lib/python3.9/site-packages (from requests) (2021.10.8)\n",
      "Collecting urllib3<1.27,>=1.21.1\n",
      "  Using cached urllib3-1.26.7-py2.py3-none-any.whl (138 kB)\n",
      "Installing collected packages: urllib3, idna, charset-normalizer, requests\n",
      "Successfully installed charset-normalizer-2.0.9 idna-3.3 requests-2.26.0 urllib3-1.26.7\n"
     ]
    }
   ],
   "source": [
    "!pip install requests"
   ]
  },
  {
   "cell_type": "code",
   "execution_count": 38,
   "id": "2dcf3bfd",
   "metadata": {
    "scrolled": true
   },
   "outputs": [],
   "source": [
    "import pandas as pd\n",
    "import requests"
   ]
  },
  {
   "cell_type": "code",
   "execution_count": 24,
   "id": "f0e0972f",
   "metadata": {
    "scrolled": true
   },
   "outputs": [
    {
     "data": {
      "text/html": [
       "<div>\n",
       "<style scoped>\n",
       "    .dataframe tbody tr th:only-of-type {\n",
       "        vertical-align: middle;\n",
       "    }\n",
       "\n",
       "    .dataframe tbody tr th {\n",
       "        vertical-align: top;\n",
       "    }\n",
       "\n",
       "    .dataframe thead th {\n",
       "        text-align: right;\n",
       "    }\n",
       "</style>\n",
       "<table border=\"1\" class=\"dataframe\">\n",
       "  <thead>\n",
       "    <tr style=\"text-align: right;\">\n",
       "      <th></th>\n",
       "      <th>ID</th>\n",
       "      <th>Gene</th>\n",
       "      <th>Variation</th>\n",
       "      <th>Class</th>\n",
       "    </tr>\n",
       "  </thead>\n",
       "  <tbody>\n",
       "    <tr>\n",
       "      <th>932</th>\n",
       "      <td>932</td>\n",
       "      <td>PDGFRB</td>\n",
       "      <td>R987W</td>\n",
       "      <td>1</td>\n",
       "    </tr>\n",
       "    <tr>\n",
       "      <th>2871</th>\n",
       "      <td>2871</td>\n",
       "      <td>BRCA2</td>\n",
       "      <td>R2659K</td>\n",
       "      <td>4</td>\n",
       "    </tr>\n",
       "    <tr>\n",
       "      <th>2898</th>\n",
       "      <td>2898</td>\n",
       "      <td>BRCA2</td>\n",
       "      <td>G1529R</td>\n",
       "      <td>6</td>\n",
       "    </tr>\n",
       "    <tr>\n",
       "      <th>1695</th>\n",
       "      <td>1695</td>\n",
       "      <td>PMS2</td>\n",
       "      <td>R802*</td>\n",
       "      <td>1</td>\n",
       "    </tr>\n",
       "    <tr>\n",
       "      <th>2200</th>\n",
       "      <td>2200</td>\n",
       "      <td>PTEN</td>\n",
       "      <td>C105F</td>\n",
       "      <td>4</td>\n",
       "    </tr>\n",
       "  </tbody>\n",
       "</table>\n",
       "</div>"
      ],
      "text/plain": [
       "        ID    Gene Variation  Class\n",
       "932    932  PDGFRB     R987W      1\n",
       "2871  2871   BRCA2    R2659K      4\n",
       "2898  2898   BRCA2    G1529R      6\n",
       "1695  1695    PMS2     R802*      1\n",
       "2200  2200    PTEN     C105F      4"
      ]
     },
     "execution_count": 24,
     "metadata": {},
     "output_type": "execute_result"
    }
   ],
   "source": [
    "trainvariants = pd.read_csv('../data/training_variants')\n",
    "trainvariants.sample(5)"
   ]
  },
  {
   "cell_type": "code",
   "execution_count": 6,
   "id": "4ffb765a",
   "metadata": {},
   "outputs": [],
   "source": [
    "traintext = pd.read_csv('../data/training_text',sep=\"\\|\\|\",engine=\"python\",names=[\"ID\",\"TEXT\"],skiprows=1)"
   ]
  },
  {
   "cell_type": "code",
   "execution_count": 7,
   "id": "39cb0dd9",
   "metadata": {
    "scrolled": true
   },
   "outputs": [
    {
     "data": {
      "text/html": [
       "<div>\n",
       "<style scoped>\n",
       "    .dataframe tbody tr th:only-of-type {\n",
       "        vertical-align: middle;\n",
       "    }\n",
       "\n",
       "    .dataframe tbody tr th {\n",
       "        vertical-align: top;\n",
       "    }\n",
       "\n",
       "    .dataframe thead th {\n",
       "        text-align: right;\n",
       "    }\n",
       "</style>\n",
       "<table border=\"1\" class=\"dataframe\">\n",
       "  <thead>\n",
       "    <tr style=\"text-align: right;\">\n",
       "      <th></th>\n",
       "      <th>ID</th>\n",
       "      <th>TEXT</th>\n",
       "    </tr>\n",
       "  </thead>\n",
       "  <tbody>\n",
       "    <tr>\n",
       "      <th>0</th>\n",
       "      <td>0</td>\n",
       "      <td>Cyclin-dependent kinases (CDKs) regulate a var...</td>\n",
       "    </tr>\n",
       "    <tr>\n",
       "      <th>1</th>\n",
       "      <td>1</td>\n",
       "      <td>Abstract Background  Non-small cell lung canc...</td>\n",
       "    </tr>\n",
       "    <tr>\n",
       "      <th>2</th>\n",
       "      <td>2</td>\n",
       "      <td>Abstract Background  Non-small cell lung canc...</td>\n",
       "    </tr>\n",
       "    <tr>\n",
       "      <th>3</th>\n",
       "      <td>3</td>\n",
       "      <td>Recent evidence has demonstrated that acquired...</td>\n",
       "    </tr>\n",
       "    <tr>\n",
       "      <th>4</th>\n",
       "      <td>4</td>\n",
       "      <td>Oncogenic mutations in the monomeric Casitas B...</td>\n",
       "    </tr>\n",
       "  </tbody>\n",
       "</table>\n",
       "</div>"
      ],
      "text/plain": [
       "   ID                                               TEXT\n",
       "0   0  Cyclin-dependent kinases (CDKs) regulate a var...\n",
       "1   1   Abstract Background  Non-small cell lung canc...\n",
       "2   2   Abstract Background  Non-small cell lung canc...\n",
       "3   3  Recent evidence has demonstrated that acquired...\n",
       "4   4  Oncogenic mutations in the monomeric Casitas B..."
      ]
     },
     "execution_count": 7,
     "metadata": {},
     "output_type": "execute_result"
    }
   ],
   "source": [
    "traintext.head()"
   ]
  },
  {
   "cell_type": "code",
   "execution_count": 20,
   "id": "2ffa6f74",
   "metadata": {
    "scrolled": true
   },
   "outputs": [
    {
     "name": "stdout",
     "output_type": "stream",
     "text": [
      "<class 'pandas.core.frame.DataFrame'>\n",
      "RangeIndex: 3321 entries, 0 to 3320\n",
      "Data columns (total 4 columns):\n",
      " #   Column     Non-Null Count  Dtype \n",
      "---  ------     --------------  ----- \n",
      " 0   ID         3321 non-null   int64 \n",
      " 1   Gene       3321 non-null   object\n",
      " 2   Variation  3321 non-null   object\n",
      " 3   Class      3321 non-null   int64 \n",
      "dtypes: int64(2), object(2)\n",
      "memory usage: 103.9+ KB\n"
     ]
    }
   ],
   "source": [
    "trainvariants.info()"
   ]
  },
  {
   "cell_type": "code",
   "execution_count": 21,
   "id": "e6e29899",
   "metadata": {},
   "outputs": [
    {
     "name": "stdout",
     "output_type": "stream",
     "text": [
      "<class 'pandas.core.frame.DataFrame'>\n",
      "RangeIndex: 3321 entries, 0 to 3320\n",
      "Data columns (total 2 columns):\n",
      " #   Column  Non-Null Count  Dtype \n",
      "---  ------  --------------  ----- \n",
      " 0   ID      3321 non-null   int64 \n",
      " 1   TEXT    3316 non-null   object\n",
      "dtypes: int64(1), object(1)\n",
      "memory usage: 52.0+ KB\n"
     ]
    }
   ],
   "source": [
    "traintext.info()"
   ]
  },
  {
   "cell_type": "code",
   "execution_count": 29,
   "id": "efcc4048",
   "metadata": {
    "scrolled": false
   },
   "outputs": [
    {
     "data": {
      "text/html": [
       "<div>\n",
       "<style scoped>\n",
       "    .dataframe tbody tr th:only-of-type {\n",
       "        vertical-align: middle;\n",
       "    }\n",
       "\n",
       "    .dataframe tbody tr th {\n",
       "        vertical-align: top;\n",
       "    }\n",
       "\n",
       "    .dataframe thead th {\n",
       "        text-align: right;\n",
       "    }\n",
       "</style>\n",
       "<table border=\"1\" class=\"dataframe\">\n",
       "  <thead>\n",
       "    <tr style=\"text-align: right;\">\n",
       "      <th></th>\n",
       "      <th>ID</th>\n",
       "      <th>TEXT</th>\n",
       "    </tr>\n",
       "  </thead>\n",
       "  <tbody>\n",
       "    <tr>\n",
       "      <th>0</th>\n",
       "      <td>0</td>\n",
       "      <td>Cyclin-dependent kinases (CDKs) regulate a var...</td>\n",
       "    </tr>\n",
       "    <tr>\n",
       "      <th>1</th>\n",
       "      <td>1</td>\n",
       "      <td>Abstract Background  Non-small cell lung canc...</td>\n",
       "    </tr>\n",
       "    <tr>\n",
       "      <th>2</th>\n",
       "      <td>2</td>\n",
       "      <td>Abstract Background  Non-small cell lung canc...</td>\n",
       "    </tr>\n",
       "    <tr>\n",
       "      <th>3</th>\n",
       "      <td>3</td>\n",
       "      <td>Recent evidence has demonstrated that acquired...</td>\n",
       "    </tr>\n",
       "    <tr>\n",
       "      <th>4</th>\n",
       "      <td>4</td>\n",
       "      <td>Oncogenic mutations in the monomeric Casitas B...</td>\n",
       "    </tr>\n",
       "  </tbody>\n",
       "</table>\n",
       "</div>"
      ],
      "text/plain": [
       "   ID                                               TEXT\n",
       "0   0  Cyclin-dependent kinases (CDKs) regulate a var...\n",
       "1   1   Abstract Background  Non-small cell lung canc...\n",
       "2   2   Abstract Background  Non-small cell lung canc...\n",
       "3   3  Recent evidence has demonstrated that acquired...\n",
       "4   4  Oncogenic mutations in the monomeric Casitas B..."
      ]
     },
     "execution_count": 29,
     "metadata": {},
     "output_type": "execute_result"
    }
   ],
   "source": [
    "traintext.head()"
   ]
  },
  {
   "cell_type": "code",
   "execution_count": 30,
   "id": "6fc39a36",
   "metadata": {},
   "outputs": [
    {
     "data": {
      "text/plain": [
       "array(['FAM58A', 'CBL', 'SHOC2', 'TERT', 'DICER1', 'PTPRT', 'RHEB',\n",
       "       'SHQ1', 'CCND2', 'RAD50', 'CCND3', 'RIT1', 'CCNE1', 'RYBP',\n",
       "       'TGFBR1', 'TGFBR2', 'MSH6', 'KMT2D', 'LATS1', 'PBRM1', 'SF3B1',\n",
       "       'LATS2', 'EGFR', 'NKX2-1', 'EIF1AX', 'ARID2', 'BRD4', 'HIST1H1C',\n",
       "       'ERRFI1', 'CHEK2', 'PAK1', 'TMPRSS2', 'H3F3A', 'ELF3', 'ROS1',\n",
       "       'ASXL2', 'CDH1', 'EPCAM', 'EP300', 'EPAS1', 'TP53', 'TP53BP1',\n",
       "       'SMAD2', 'SMAD3', 'SMAD4', 'CDK4', 'AURKB', 'CDK6', 'FBXW7',\n",
       "       'CDK8', 'CDKN1A', 'CDKN1B', 'CDKN2A', 'CDKN2B', 'CDKN2C', 'ASXL1',\n",
       "       'ERBB2', 'ERBB3', 'ERBB4', 'ERCC2', 'BRIP1', 'ERCC3', 'ERCC4',\n",
       "       'ABL1', 'CEBPA', 'ERG', 'HLA-A', 'HLA-B', 'PDGFRA', 'PDGFRB',\n",
       "       'RBM10', 'KDM5C', 'ESR1', 'ETV1', 'ETV6', 'TSC1', 'IKZF1', 'TSC2',\n",
       "       'EWSR1', 'ACVR1', 'FOXA1', 'MDM2', 'ARID1A', 'EZH2', 'MDM4',\n",
       "       'KLF4', 'RXRA', 'MAP3K1', 'AXIN1', 'BAP1', 'MEN1', 'FANCA',\n",
       "       'FANCC', 'MET', 'U2AF1', 'KMT2C', 'FAT1', 'ARID1B', 'PIK3CA',\n",
       "       'PIK3CB', 'PIM1', 'PIK3CD', 'YAP1', 'PIK3R1', 'PIK3R2', 'ARID5B',\n",
       "       'HRAS', 'MLH1', 'FGF3', 'FGF4', 'KMT2A', 'AKT1', 'AKT2', 'FGFR1',\n",
       "       'FGFR3', 'SPOP', 'FGFR2', 'FGFR4', 'KDM6A', 'ALK', 'SDHB',\n",
       "       'RAD54L', 'SDHC', 'VEGFA', 'MPL', 'PMS1', 'CARM1', 'FOXO1', 'VHL',\n",
       "       'MAP2K4', 'RRAS2', 'FLT1', 'FLT3', 'PMS2', 'SRSF2', 'WHSC1',\n",
       "       'PPM1D', 'POLE', 'KNSTRN', 'PIK3R3', 'APC', 'RICTOR', 'MSH2',\n",
       "       'IDH1', 'IDH2', 'XPO1', 'XRCC2', 'CREBBP', 'AR', 'ARAF', 'RHOA',\n",
       "       'NCOR1', 'PPP2R1A', 'SETD2', 'IGF1R', 'PPP6C', 'CTCF', 'IKBKE',\n",
       "       'MTOR', 'TET1', 'SMARCA4', 'SMARCB1', 'FOXP1', 'SMO', 'CARD11',\n",
       "       'MEF2B', 'CTLA4', 'ATM', 'NUP93', 'MAPK1', 'CTNNB1', 'MAP2K1',\n",
       "       'MAP2K2', 'STAG2', 'IL7R', 'SOS1', 'MYC', 'MYCN', 'SOX9', 'TET2',\n",
       "       'MYD88', 'AGO2', 'KMT2B', 'ATR', 'ATRX', 'CDK12', 'AXL', 'MYOD1',\n",
       "       'B2M', 'SRC', 'GATA3', 'BARD1', 'CCND1', 'BCL2', 'KEAP1', 'PTCH1',\n",
       "       'PTEN', 'BCOR', 'RNF43', 'CIC', 'INPP4B', 'STAT3', 'WHSC1L1',\n",
       "       'PRDM1', 'JAK1', 'JAK2', 'AURKA', 'STK11', 'JUN', 'PTPN11', 'NF1',\n",
       "       'FOXL2', 'PTPRD', 'BRCA1', 'BRAF', 'BRCA2', 'NF2', 'PAX8',\n",
       "       'NFE2L2', 'GLI1', 'FUBP1', 'BTK', 'NFKBIA', 'GNA11', 'KDR',\n",
       "       'BCL10', 'GNAQ', 'GNAS', 'MGA', 'KIT', 'FGF19', 'MED12', 'NOTCH1',\n",
       "       'NOTCH2', 'RAC1', 'DNMT3A', 'DNMT3B', 'RAD21', 'RAD51C', 'RAD51B',\n",
       "       'RAD51D', 'KRAS', 'NPM1', 'RAF1', 'RAB35', 'HNF1A', 'AKT3', 'TCF3',\n",
       "       'TCF7L2', 'RARA', 'NRAS', 'RASA1', 'BCL2L11', 'RB1', 'KDM5A',\n",
       "       'NTRK1', 'NTRK2', 'NTRK3', 'DUSP4', 'DDR2', 'NSD1', 'CASP8', 'RET',\n",
       "       'RUNX1'], dtype=object)"
      ]
     },
     "execution_count": 30,
     "metadata": {},
     "output_type": "execute_result"
    }
   ],
   "source": [
    "trainvariants.Gene.unique()"
   ]
  },
  {
   "cell_type": "code",
   "execution_count": 35,
   "id": "f0acd023",
   "metadata": {},
   "outputs": [
    {
     "data": {
      "text/plain": [
       "853            Y253H\n",
       "1601            Y98N\n",
       "1024          P1675L\n",
       "2747           G466R\n",
       "2991    E554_K558del\n",
       "1186           N345I\n",
       "278            G465E\n",
       "2320           D544H\n",
       "746            D821N\n",
       "671             G23D\n",
       "2753         Fusions\n",
       "2998    M552_K558del\n",
       "60             R453C\n",
       "2096        Deletion\n",
       "2597            S59R\n",
       "2026           N382H\n",
       "2926            I28T\n",
       "627            T205A\n",
       "1884          M2327I\n",
       "314            K320E\n",
       "Name: Variation, dtype: object"
      ]
     },
     "execution_count": 35,
     "metadata": {},
     "output_type": "execute_result"
    }
   ],
   "source": [
    "trainvariants.Variation.sample(20)"
   ]
  },
  {
   "cell_type": "code",
   "execution_count": 18,
   "id": "8dfe9e92",
   "metadata": {},
   "outputs": [
    {
     "name": "stdout",
     "output_type": "stream",
     "text": [
      "Number of different variants: 2996\n",
      "Number of columns: 3321\n"
     ]
    }
   ],
   "source": [
    "uvariants = trainvariants.Variation.unique().size\n",
    "nvariants = trainvariants.Variation.size\n",
    "\n",
    "print(f'Number of different variants: {uvariants}\\nNumber of columns: {nvariants}')"
   ]
  },
  {
   "cell_type": "code",
   "execution_count": 33,
   "id": "3ae245e8",
   "metadata": {},
   "outputs": [
    {
     "data": {
      "text/plain": [
       "'NTRK1'"
      ]
     },
     "execution_count": 33,
     "metadata": {},
     "output_type": "execute_result"
    }
   ],
   "source": [
    "trainvariants.Gene[3218]"
   ]
  },
  {
   "cell_type": "code",
   "execution_count": 56,
   "id": "2cb9a0d0",
   "metadata": {},
   "outputs": [],
   "source": [
    "Description = []\n",
    "for gen in trainvariants.Gene:\n",
    "    url = 'https://www.genenetwork.nl/api/v1/gene/' + gen\n",
    "    dic = requests.get(url).json()\n",
    "    Description.append(dic['gene']['description'])"
   ]
  },
  {
   "cell_type": "code",
   "execution_count": 57,
   "id": "04fe91ea",
   "metadata": {},
   "outputs": [],
   "source": [
    "trainvariants['Description'] = Description"
   ]
  },
  {
   "cell_type": "code",
   "execution_count": 59,
   "id": "8148e40d",
   "metadata": {},
   "outputs": [
    {
     "data": {
      "text/plain": [
       "array(['family with sequence similarity 58, member A [Source:HGNC Symbol;Acc:HGNC:28434]',\n",
       "       'Cbl proto-oncogene, E3 ubiquitin protein ligase [Source:HGNC Symbol;Acc:HGNC:1541]',\n",
       "       'SHOC2 leucine-rich repeat scaffold protein [Source:HGNC Symbol;Acc:HGNC:15454]',\n",
       "       'telomerase reverse transcriptase [Source:HGNC Symbol;Acc:HGNC:11730]',\n",
       "       'dicer 1, ribonuclease type III [Source:HGNC Symbol;Acc:HGNC:17098]',\n",
       "       'protein tyrosine phosphatase, receptor type, T [Source:HGNC Symbol;Acc:HGNC:9682]',\n",
       "       'Ras homolog enriched in brain [Source:HGNC Symbol;Acc:HGNC:10011]',\n",
       "       'SHQ1, H/ACA ribonucleoprotein assembly factor [Source:HGNC Symbol;Acc:HGNC:25543]',\n",
       "       'cyclin D2 [Source:HGNC Symbol;Acc:HGNC:1583]',\n",
       "       'RAD50 homolog, double strand break repair protein [Source:HGNC Symbol;Acc:HGNC:9816]',\n",
       "       'cyclin D3 [Source:HGNC Symbol;Acc:HGNC:1585]',\n",
       "       'Ras-like without CAAX 1 [Source:HGNC Symbol;Acc:HGNC:10023]',\n",
       "       'cyclin E1 [Source:HGNC Symbol;Acc:HGNC:1589]',\n",
       "       'RING1 and YY1 binding protein [Source:HGNC Symbol;Acc:HGNC:10480]',\n",
       "       'transforming growth factor, beta receptor 1 [Source:HGNC Symbol;Acc:HGNC:11772]',\n",
       "       'transforming growth factor, beta receptor II (70/80kDa) [Source:HGNC Symbol;Acc:HGNC:11773]',\n",
       "       'mutS homolog 6 [Source:HGNC Symbol;Acc:HGNC:7329]',\n",
       "       'lysine (K)-specific methyltransferase 2D [Source:HGNC Symbol;Acc:HGNC:7133]',\n",
       "       'large tumor suppressor kinase 1 [Source:HGNC Symbol;Acc:HGNC:6514]',\n",
       "       'polybromo 1 [Source:HGNC Symbol;Acc:HGNC:30064]',\n",
       "       'splicing factor 3b, subunit 1, 155kDa [Source:HGNC Symbol;Acc:HGNC:10768]',\n",
       "       'large tumor suppressor kinase 2 [Source:HGNC Symbol;Acc:HGNC:6515]',\n",
       "       'epidermal growth factor receptor [Source:HGNC Symbol;Acc:HGNC:3236]',\n",
       "       'NK2 homeobox 1 [Source:HGNC Symbol;Acc:HGNC:11825]',\n",
       "       'eukaryotic translation initiation factor 1A, X-linked [Source:HGNC Symbol;Acc:HGNC:3250]',\n",
       "       'AT rich interactive domain 2 (ARID, RFX-like) [Source:HGNC Symbol;Acc:HGNC:18037]',\n",
       "       'bromodomain containing 4 [Source:HGNC Symbol;Acc:HGNC:13575]',\n",
       "       'histone cluster 1, H1c [Source:HGNC Symbol;Acc:HGNC:4716]',\n",
       "       'ERBB receptor feedback inhibitor 1 [Source:HGNC Symbol;Acc:HGNC:18185]',\n",
       "       'checkpoint kinase 2 [Source:HGNC Symbol;Acc:HGNC:16627]',\n",
       "       'p21 protein (Cdc42/Rac)-activated kinase 1 [Source:HGNC Symbol;Acc:HGNC:8590]',\n",
       "       'transmembrane protease, serine 2 [Source:HGNC Symbol;Acc:HGNC:11876]',\n",
       "       'H3 histone, family 3A [Source:HGNC Symbol;Acc:HGNC:4764]',\n",
       "       'E74-like factor 3 (ets domain transcription factor, epithelial-specific ) [Source:HGNC Symbol;Acc:HGNC:3318]',\n",
       "       'ROS proto-oncogene 1 , receptor tyrosine kinase [Source:HGNC Symbol;Acc:HGNC:10261]',\n",
       "       'additional sex combs like transcriptional regulator 2 [Source:HGNC Symbol;Acc:HGNC:23805]',\n",
       "       'cadherin 1, type 1 [Source:HGNC Symbol;Acc:HGNC:1748]',\n",
       "       'epithelial cell adhesion molecule [Source:HGNC Symbol;Acc:HGNC:11529]',\n",
       "       'E1A binding protein p300 [Source:HGNC Symbol;Acc:HGNC:3373]',\n",
       "       'endothelial PAS domain protein 1 [Source:HGNC Symbol;Acc:HGNC:3374]',\n",
       "       'tumor protein p53 [Source:HGNC Symbol;Acc:HGNC:11998]',\n",
       "       'tumor protein p53 binding protein 1 [Source:HGNC Symbol;Acc:HGNC:11999]',\n",
       "       'SMAD family member 2 [Source:HGNC Symbol;Acc:HGNC:6768]',\n",
       "       'SMAD family member 3 [Source:HGNC Symbol;Acc:HGNC:6769]',\n",
       "       'SMAD family member 4 [Source:HGNC Symbol;Acc:HGNC:6770]',\n",
       "       'cyclin-dependent kinase 4 [Source:HGNC Symbol;Acc:HGNC:1773]',\n",
       "       'aurora kinase B [Source:HGNC Symbol;Acc:HGNC:11390]',\n",
       "       'cyclin-dependent kinase 6 [Source:HGNC Symbol;Acc:HGNC:1777]',\n",
       "       'F-box and WD repeat domain containing 7, E3 ubiquitin protein ligase [Source:HGNC Symbol;Acc:HGNC:16712]',\n",
       "       'cyclin-dependent kinase 8 [Source:HGNC Symbol;Acc:HGNC:1779]',\n",
       "       'cyclin-dependent kinase inhibitor 1A (p21, Cip1) [Source:HGNC Symbol;Acc:HGNC:1784]',\n",
       "       'cyclin-dependent kinase inhibitor 1B (p27, Kip1) [Source:HGNC Symbol;Acc:HGNC:1785]',\n",
       "       'cyclin-dependent kinase inhibitor 2A [Source:HGNC Symbol;Acc:HGNC:1787]',\n",
       "       'cyclin-dependent kinase inhibitor 2B (p15, inhibits CDK4) [Source:HGNC Symbol;Acc:HGNC:1788]',\n",
       "       'cyclin-dependent kinase inhibitor 2C (p18, inhibits CDK4) [Source:HGNC Symbol;Acc:HGNC:1789]',\n",
       "       'additional sex combs like transcriptional regulator 1 [Source:HGNC Symbol;Acc:HGNC:18318]',\n",
       "       'erb-b2 receptor tyrosine kinase 2 [Source:HGNC Symbol;Acc:HGNC:3430]',\n",
       "       'erb-b2 receptor tyrosine kinase 3 [Source:HGNC Symbol;Acc:HGNC:3431]',\n",
       "       'erb-b2 receptor tyrosine kinase 4 [Source:HGNC Symbol;Acc:HGNC:3432]',\n",
       "       'excision repair cross-complementation group 2 [Source:HGNC Symbol;Acc:HGNC:3434]',\n",
       "       'BRCA1 interacting protein C-terminal helicase 1 [Source:HGNC Symbol;Acc:HGNC:20473]',\n",
       "       'excision repair cross-complementation group 3 [Source:HGNC Symbol;Acc:HGNC:3435]',\n",
       "       'excision repair cross-complementation group 4 [Source:HGNC Symbol;Acc:HGNC:3436]',\n",
       "       'ABL proto-oncogene 1, non-receptor tyrosine kinase [Source:HGNC Symbol;Acc:HGNC:76]',\n",
       "       'CCAAT/enhancer binding protein (C/EBP), alpha [Source:HGNC Symbol;Acc:HGNC:1833]',\n",
       "       'v-ets avian erythroblastosis virus E26 oncogene homolog [Source:HGNC Symbol;Acc:HGNC:3446]',\n",
       "       'major histocompatibility complex, class I, A [Source:HGNC Symbol;Acc:HGNC:4931]',\n",
       "       'major histocompatibility complex, class I, B [Source:HGNC Symbol;Acc:HGNC:4932]',\n",
       "       'platelet-derived growth factor receptor, alpha polypeptide [Source:HGNC Symbol;Acc:HGNC:8803]',\n",
       "       'platelet-derived growth factor receptor, beta polypeptide [Source:HGNC Symbol;Acc:HGNC:8804]',\n",
       "       'RNA binding motif protein 10 [Source:HGNC Symbol;Acc:HGNC:9896]',\n",
       "       'lysine (K)-specific demethylase 5C [Source:HGNC Symbol;Acc:HGNC:11114]',\n",
       "       'estrogen receptor 1 [Source:HGNC Symbol;Acc:HGNC:3467]',\n",
       "       'ets variant 1 [Source:HGNC Symbol;Acc:HGNC:3490]',\n",
       "       'ets variant 6 [Source:HGNC Symbol;Acc:HGNC:3495]',\n",
       "       'tuberous sclerosis 1 [Source:HGNC Symbol;Acc:HGNC:12362]',\n",
       "       'IKAROS family zinc finger 1 (Ikaros) [Source:HGNC Symbol;Acc:HGNC:13176]',\n",
       "       'tuberous sclerosis 2 [Source:HGNC Symbol;Acc:HGNC:12363]',\n",
       "       'EWS RNA-binding protein 1 [Source:HGNC Symbol;Acc:HGNC:3508]',\n",
       "       'activin A receptor, type I [Source:HGNC Symbol;Acc:HGNC:171]',\n",
       "       'forkhead box A1 [Source:HGNC Symbol;Acc:HGNC:5021]',\n",
       "       'MDM2 proto-oncogene, E3 ubiquitin protein ligase [Source:HGNC Symbol;Acc:HGNC:6973]',\n",
       "       'AT rich interactive domain 1A (SWI-like) [Source:HGNC Symbol;Acc:HGNC:11110]',\n",
       "       'enhancer of zeste 2 polycomb repressive complex 2 subunit [Source:HGNC Symbol;Acc:HGNC:3527]',\n",
       "       'MDM4, p53 regulator [Source:HGNC Symbol;Acc:HGNC:6974]',\n",
       "       'Kruppel-like factor 4 (gut) [Source:HGNC Symbol;Acc:HGNC:6348]',\n",
       "       'retinoid X receptor, alpha [Source:HGNC Symbol;Acc:HGNC:10477]',\n",
       "       'mitogen-activated protein kinase kinase kinase 1, E3 ubiquitin protein ligase [Source:HGNC Symbol;Acc:HGNC:6848]',\n",
       "       'axin 1 [Source:HGNC Symbol;Acc:HGNC:903]',\n",
       "       'BRCA1 associated protein-1 (ubiquitin carboxy-terminal hydrolase) [Source:HGNC Symbol;Acc:HGNC:950]',\n",
       "       'multiple endocrine neoplasia I [Source:HGNC Symbol;Acc:HGNC:7010]',\n",
       "       'Fanconi anemia, complementation group A [Source:HGNC Symbol;Acc:HGNC:3582]',\n",
       "       'Fanconi anemia, complementation group C [Source:HGNC Symbol;Acc:HGNC:3584]',\n",
       "       'MET proto-oncogene, receptor tyrosine kinase [Source:HGNC Symbol;Acc:HGNC:7029]',\n",
       "       'U2 small nuclear RNA auxiliary factor 1 [Source:HGNC Symbol;Acc:HGNC:12453]',\n",
       "       'lysine (K)-specific methyltransferase 2C [Source:HGNC Symbol;Acc:HGNC:13726]',\n",
       "       'FAT atypical cadherin 1 [Source:HGNC Symbol;Acc:HGNC:3595]',\n",
       "       'AT rich interactive domain 1B (SWI1-like) [Source:HGNC Symbol;Acc:HGNC:18040]',\n",
       "       'phosphatidylinositol-4,5-bisphosphate 3-kinase, catalytic subunit alpha [Source:HGNC Symbol;Acc:HGNC:8975]',\n",
       "       'phosphatidylinositol-4,5-bisphosphate 3-kinase, catalytic subunit beta [Source:HGNC Symbol;Acc:HGNC:8976]',\n",
       "       'Pim-1 proto-oncogene, serine/threonine kinase [Source:HGNC Symbol;Acc:HGNC:8986]',\n",
       "       'phosphatidylinositol-4,5-bisphosphate 3-kinase, catalytic subunit delta [Source:HGNC Symbol;Acc:HGNC:8977]',\n",
       "       'Yes-associated protein 1 [Source:HGNC Symbol;Acc:HGNC:16262]',\n",
       "       'phosphoinositide-3-kinase, regulatory subunit 1 (alpha) [Source:HGNC Symbol;Acc:HGNC:8979]',\n",
       "       'phosphoinositide-3-kinase, regulatory subunit 2 (beta) [Source:HGNC Symbol;Acc:HGNC:8980]',\n",
       "       'AT rich interactive domain 5B (MRF1-like) [Source:HGNC Symbol;Acc:HGNC:17362]',\n",
       "       'Harvey rat sarcoma viral oncogene homolog [Source:HGNC Symbol;Acc:HGNC:5173]',\n",
       "       'mutL homolog 1 [Source:HGNC Symbol;Acc:HGNC:7127]',\n",
       "       'fibroblast growth factor 3 [Source:HGNC Symbol;Acc:HGNC:3681]',\n",
       "       'fibroblast growth factor 4 [Source:HGNC Symbol;Acc:HGNC:3682]',\n",
       "       'lysine (K)-specific methyltransferase 2A [Source:HGNC Symbol;Acc:HGNC:7132]',\n",
       "       'v-akt murine thymoma viral oncogene homolog 1 [Source:HGNC Symbol;Acc:HGNC:391]',\n",
       "       'v-akt murine thymoma viral oncogene homolog 2 [Source:HGNC Symbol;Acc:HGNC:392]',\n",
       "       'fibroblast growth factor receptor 1 [Source:HGNC Symbol;Acc:HGNC:3688]',\n",
       "       'fibroblast growth factor receptor 3 [Source:HGNC Symbol;Acc:HGNC:3690]',\n",
       "       'speckle-type POZ protein [Source:HGNC Symbol;Acc:HGNC:11254]',\n",
       "       'fibroblast growth factor receptor 2 [Source:HGNC Symbol;Acc:HGNC:3689]',\n",
       "       'fibroblast growth factor receptor 4 [Source:HGNC Symbol;Acc:HGNC:3691]',\n",
       "       'lysine (K)-specific demethylase 6A [Source:HGNC Symbol;Acc:HGNC:12637]',\n",
       "       'anaplastic lymphoma receptor tyrosine kinase [Source:HGNC Symbol;Acc:HGNC:427]',\n",
       "       'succinate dehydrogenase complex, subunit B, iron sulfur (Ip) [Source:HGNC Symbol;Acc:HGNC:10681]',\n",
       "       'RAD54-like (S. cerevisiae) [Source:HGNC Symbol;Acc:HGNC:9826]',\n",
       "       'succinate dehydrogenase complex, subunit C, integral membrane protein, 15kDa [Source:HGNC Symbol;Acc:HGNC:10682]',\n",
       "       'vascular endothelial growth factor A [Source:HGNC Symbol;Acc:HGNC:12680]',\n",
       "       'MPL proto-oncogene, thrombopoietin receptor [Source:HGNC Symbol;Acc:HGNC:7217]',\n",
       "       'PMS1 homolog 1, mismatch repair system component [Source:HGNC Symbol;Acc:HGNC:9121]',\n",
       "       'coactivator-associated arginine methyltransferase 1 [Source:HGNC Symbol;Acc:HGNC:23393]',\n",
       "       'forkhead box O1 [Source:HGNC Symbol;Acc:HGNC:3819]',\n",
       "       'von Hippel-Lindau tumor suppressor, E3 ubiquitin protein ligase [Source:HGNC Symbol;Acc:HGNC:12687]',\n",
       "       'mitogen-activated protein kinase kinase 4 [Source:HGNC Symbol;Acc:HGNC:6844]',\n",
       "       'related RAS viral (r-ras) oncogene homolog 2 [Source:HGNC Symbol;Acc:HGNC:17271]',\n",
       "       'fms-related tyrosine kinase 1 [Source:HGNC Symbol;Acc:HGNC:3763]',\n",
       "       'fms-related tyrosine kinase 3 [Source:HGNC Symbol;Acc:HGNC:3765]',\n",
       "       'PMS1 homolog 2, mismatch repair system component [Source:HGNC Symbol;Acc:HGNC:9122]',\n",
       "       'serine/arginine-rich splicing factor 2 [Source:HGNC Symbol;Acc:HGNC:10783]',\n",
       "       'Wolf-Hirschhorn syndrome candidate 1 [Source:HGNC Symbol;Acc:HGNC:12766]',\n",
       "       'protein phosphatase, Mg2+/Mn2+ dependent, 1D [Source:HGNC Symbol;Acc:HGNC:9277]',\n",
       "       'polymerase (DNA directed), epsilon, catalytic subunit [Source:HGNC Symbol;Acc:HGNC:9177]',\n",
       "       'kinetochore-localized astrin/SPAG5 binding protein [Source:HGNC Symbol;Acc:HGNC:30767]',\n",
       "       'phosphoinositide-3-kinase, regulatory subunit 3 (gamma) [Source:EntrezGene;Acc:8503]',\n",
       "       'adenomatous polyposis coli [Source:HGNC Symbol;Acc:HGNC:583]',\n",
       "       'RPTOR independent companion of MTOR, complex 2 [Source:HGNC Symbol;Acc:HGNC:28611]',\n",
       "       'mutS homolog 2 [Source:HGNC Symbol;Acc:HGNC:7325]',\n",
       "       'isocitrate dehydrogenase 1 (NADP+), soluble [Source:HGNC Symbol;Acc:HGNC:5382]',\n",
       "       'isocitrate dehydrogenase 2 (NADP+), mitochondrial [Source:HGNC Symbol;Acc:HGNC:5383]',\n",
       "       'exportin 1 [Source:HGNC Symbol;Acc:HGNC:12825]',\n",
       "       'X-ray repair complementing defective repair in Chinese hamster cells 2 [Source:HGNC Symbol;Acc:HGNC:12829]',\n",
       "       'CREB binding protein [Source:HGNC Symbol;Acc:HGNC:2348]',\n",
       "       'androgen receptor [Source:HGNC Symbol;Acc:HGNC:644]',\n",
       "       'A-Raf proto-oncogene, serine/threonine kinase [Source:HGNC Symbol;Acc:HGNC:646]',\n",
       "       'ras homolog family member A [Source:HGNC Symbol;Acc:HGNC:667]',\n",
       "       'nuclear receptor corepressor 1 [Source:HGNC Symbol;Acc:HGNC:7672]',\n",
       "       'protein phosphatase 2, regulatory subunit A, alpha [Source:HGNC Symbol;Acc:HGNC:9302]',\n",
       "       'SET domain containing 2 [Source:HGNC Symbol;Acc:HGNC:18420]',\n",
       "       'insulin-like growth factor 1 receptor [Source:HGNC Symbol;Acc:HGNC:5465]',\n",
       "       'protein phosphatase 6, catalytic subunit [Source:HGNC Symbol;Acc:HGNC:9323]',\n",
       "       'CCCTC-binding factor (zinc finger protein) [Source:HGNC Symbol;Acc:HGNC:13723]',\n",
       "       'inhibitor of kappa light polypeptide gene enhancer in B-cells, kinase epsilon [Source:HGNC Symbol;Acc:HGNC:14552]',\n",
       "       'mechanistic target of rapamycin (serine/threonine kinase) [Source:HGNC Symbol;Acc:HGNC:3942]',\n",
       "       'tet methylcytosine dioxygenase 1 [Source:HGNC Symbol;Acc:HGNC:29484]',\n",
       "       'SWI/SNF related, matrix associated, actin dependent regulator of chromatin, subfamily a, member 4 [Source:HGNC Symbol;Acc:HGNC:11100]',\n",
       "       'SWI/SNF related, matrix associated, actin dependent regulator of chromatin, subfamily b, member 1 [Source:HGNC Symbol;Acc:HGNC:11103]',\n",
       "       'forkhead box P1 [Source:HGNC Symbol;Acc:HGNC:3823]',\n",
       "       'smoothened, frizzled class receptor [Source:HGNC Symbol;Acc:HGNC:11119]',\n",
       "       'caspase recruitment domain family, member 11 [Source:HGNC Symbol;Acc:HGNC:16393]',\n",
       "       'myocyte enhancer factor 2B [Source:HGNC Symbol;Acc:HGNC:6995]',\n",
       "       'cytotoxic T-lymphocyte-associated protein 4 [Source:HGNC Symbol;Acc:HGNC:2505]',\n",
       "       'ATM serine/threonine kinase [Source:HGNC Symbol;Acc:HGNC:795]',\n",
       "       'nucleoporin 93kDa [Source:HGNC Symbol;Acc:HGNC:28958]',\n",
       "       'mitogen-activated protein kinase 1 [Source:HGNC Symbol;Acc:HGNC:6871]',\n",
       "       'catenin (cadherin-associated protein), beta 1, 88kDa [Source:HGNC Symbol;Acc:HGNC:2514]',\n",
       "       'mitogen-activated protein kinase kinase 1 [Source:HGNC Symbol;Acc:HGNC:6840]',\n",
       "       'mitogen-activated protein kinase kinase 2 [Source:HGNC Symbol;Acc:HGNC:6842]',\n",
       "       'stromal antigen 2 [Source:HGNC Symbol;Acc:HGNC:11355]',\n",
       "       'interleukin 7 receptor [Source:HGNC Symbol;Acc:HGNC:6024]',\n",
       "       'son of sevenless homolog 1 (Drosophila) [Source:HGNC Symbol;Acc:HGNC:11187]',\n",
       "       'v-myc avian myelocytomatosis viral oncogene homolog [Source:HGNC Symbol;Acc:HGNC:7553]',\n",
       "       'v-myc avian myelocytomatosis viral oncogene neuroblastoma derived homolog [Source:HGNC Symbol;Acc:HGNC:7559]',\n",
       "       'SRY (sex determining region Y)-box 9 [Source:HGNC Symbol;Acc:HGNC:11204]',\n",
       "       'tet methylcytosine dioxygenase 2 [Source:HGNC Symbol;Acc:HGNC:25941]',\n",
       "       'myeloid differentiation primary response 88 [Source:HGNC Symbol;Acc:HGNC:7562]',\n",
       "       'argonaute RISC catalytic component 2 [Source:HGNC Symbol;Acc:HGNC:3263]',\n",
       "       'lysine (K)-specific methyltransferase 2B [Source:HGNC Symbol;Acc:HGNC:15840]',\n",
       "       'ATR serine/threonine kinase [Source:HGNC Symbol;Acc:HGNC:882]',\n",
       "       'alpha thalassemia/mental retardation syndrome X-linked [Source:HGNC Symbol;Acc:HGNC:886]',\n",
       "       'cyclin-dependent kinase 12 [Source:HGNC Symbol;Acc:HGNC:24224]',\n",
       "       'AXL receptor tyrosine kinase [Source:HGNC Symbol;Acc:HGNC:905]',\n",
       "       'myogenic differentiation 1 [Source:HGNC Symbol;Acc:HGNC:7611]',\n",
       "       'beta-2-microglobulin [Source:HGNC Symbol;Acc:HGNC:914]',\n",
       "       'SRC proto-oncogene, non-receptor tyrosine kinase [Source:HGNC Symbol;Acc:HGNC:11283]',\n",
       "       'GATA binding protein 3 [Source:HGNC Symbol;Acc:HGNC:4172]',\n",
       "       'BRCA1 associated RING domain 1 [Source:HGNC Symbol;Acc:HGNC:952]',\n",
       "       'cyclin D1 [Source:HGNC Symbol;Acc:HGNC:1582]',\n",
       "       'B-cell CLL/lymphoma 2 [Source:HGNC Symbol;Acc:HGNC:990]',\n",
       "       'kelch-like ECH-associated protein 1 [Source:HGNC Symbol;Acc:HGNC:23177]',\n",
       "       'patched 1 [Source:HGNC Symbol;Acc:HGNC:9585]',\n",
       "       'phosphatase and tensin homolog [Source:HGNC Symbol;Acc:HGNC:9588]',\n",
       "       'BCL6 corepressor [Source:HGNC Symbol;Acc:HGNC:20893]',\n",
       "       'ring finger protein 43 [Source:HGNC Symbol;Acc:HGNC:18505]',\n",
       "       'capicua transcriptional repressor [Source:HGNC Symbol;Acc:HGNC:14214]',\n",
       "       'inositol polyphosphate-4-phosphatase type II B [Source:HGNC Symbol;Acc:HGNC:6075]',\n",
       "       'signal transducer and activator of transcription 3 (acute-phase response factor) [Source:HGNC Symbol;Acc:HGNC:11364]',\n",
       "       'Wolf-Hirschhorn syndrome candidate 1-like 1 [Source:HGNC Symbol;Acc:HGNC:12767]',\n",
       "       'PR domain containing 1, with ZNF domain [Source:HGNC Symbol;Acc:HGNC:9346]',\n",
       "       'Janus kinase 1 [Source:HGNC Symbol;Acc:HGNC:6190]',\n",
       "       'Janus kinase 2 [Source:HGNC Symbol;Acc:HGNC:6192]',\n",
       "       'aurora kinase A [Source:HGNC Symbol;Acc:HGNC:11393]',\n",
       "       'serine/threonine kinase 11 [Source:HGNC Symbol;Acc:HGNC:11389]',\n",
       "       'jun proto-oncogene [Source:HGNC Symbol;Acc:HGNC:6204]',\n",
       "       'protein tyrosine phosphatase, non-receptor type 11 [Source:HGNC Symbol;Acc:HGNC:9644]',\n",
       "       'neurofibromin 1 [Source:HGNC Symbol;Acc:HGNC:7765]',\n",
       "       'forkhead box L2 [Source:HGNC Symbol;Acc:HGNC:1092]',\n",
       "       'protein tyrosine phosphatase, receptor type, D [Source:HGNC Symbol;Acc:HGNC:9668]',\n",
       "       'breast cancer 1, early onset [Source:HGNC Symbol;Acc:HGNC:1100]',\n",
       "       'B-Raf proto-oncogene, serine/threonine kinase [Source:HGNC Symbol;Acc:HGNC:1097]',\n",
       "       'breast cancer 2, early onset [Source:HGNC Symbol;Acc:HGNC:1101]',\n",
       "       'neurofibromin 2 (merlin) [Source:HGNC Symbol;Acc:HGNC:7773]',\n",
       "       'paired box 8 [Source:HGNC Symbol;Acc:HGNC:8622]',\n",
       "       'nuclear factor, erythroid 2-like 2 [Source:HGNC Symbol;Acc:HGNC:7782]',\n",
       "       'GLI family zinc finger 1 [Source:HGNC Symbol;Acc:HGNC:4317]',\n",
       "       'far upstream element (FUSE) binding protein 1 [Source:HGNC Symbol;Acc:HGNC:4004]',\n",
       "       'Bruton agammaglobulinemia tyrosine kinase [Source:HGNC Symbol;Acc:HGNC:1133]',\n",
       "       'nuclear factor of kappa light polypeptide gene enhancer in B-cells inhibitor, alpha [Source:HGNC Symbol;Acc:HGNC:7797]',\n",
       "       'guanine nucleotide binding protein (G protein), alpha 11 (Gq class) [Source:HGNC Symbol;Acc:HGNC:4379]',\n",
       "       'kinase insert domain receptor [Source:HGNC Symbol;Acc:HGNC:6307]',\n",
       "       'B-cell CLL/lymphoma 10 [Source:HGNC Symbol;Acc:HGNC:989]',\n",
       "       'guanine nucleotide binding protein (G protein), q polypeptide [Source:HGNC Symbol;Acc:HGNC:4390]',\n",
       "       'GNAS complex locus [Source:HGNC Symbol;Acc:HGNC:4392]',\n",
       "       'MGA, MAX dimerization protein [Source:HGNC Symbol;Acc:HGNC:14010]',\n",
       "       'v-kit Hardy-Zuckerman 4 feline sarcoma viral oncogene homolog [Source:HGNC Symbol;Acc:HGNC:6342]',\n",
       "       'fibroblast growth factor 19 [Source:HGNC Symbol;Acc:HGNC:3675]',\n",
       "       'mediator complex subunit 12 [Source:HGNC Symbol;Acc:HGNC:11957]',\n",
       "       'notch 1 [Source:HGNC Symbol;Acc:HGNC:7881]',\n",
       "       'notch 2 [Source:HGNC Symbol;Acc:HGNC:7882]',\n",
       "       'ras-related C3 botulinum toxin substrate 1 (rho family, small GTP binding protein Rac1) [Source:HGNC Symbol;Acc:HGNC:9801]',\n",
       "       'DNA (cytosine-5-)-methyltransferase 3 alpha [Source:HGNC Symbol;Acc:HGNC:2978]',\n",
       "       'DNA (cytosine-5-)-methyltransferase 3 beta [Source:HGNC Symbol;Acc:HGNC:2979]',\n",
       "       'RAD21 cohesin complex component [Source:HGNC Symbol;Acc:HGNC:9811]',\n",
       "       'RAD51 paralog C [Source:HGNC Symbol;Acc:HGNC:9820]',\n",
       "       'RAD51 paralog B [Source:HGNC Symbol;Acc:HGNC:9822]',\n",
       "       'RAD51 paralog D [Source:HGNC Symbol;Acc:HGNC:9823]',\n",
       "       'Kirsten rat sarcoma viral oncogene homolog [Source:HGNC Symbol;Acc:HGNC:6407]',\n",
       "       'nucleophosmin (nucleolar phosphoprotein B23, numatrin) [Source:HGNC Symbol;Acc:HGNC:7910]',\n",
       "       'Raf-1 proto-oncogene, serine/threonine kinase [Source:HGNC Symbol;Acc:HGNC:9829]',\n",
       "       'RAB35, member RAS oncogene family [Source:HGNC Symbol;Acc:HGNC:9774]',\n",
       "       'HNF1 homeobox A [Source:HGNC Symbol;Acc:HGNC:11621]',\n",
       "       'v-akt murine thymoma viral oncogene homolog 3 [Source:HGNC Symbol;Acc:HGNC:393]',\n",
       "       'transcription factor 3 [Source:HGNC Symbol;Acc:HGNC:11633]',\n",
       "       'transcription factor 7-like 2 (T-cell specific, HMG-box) [Source:HGNC Symbol;Acc:HGNC:11641]',\n",
       "       'retinoic acid receptor, alpha [Source:HGNC Symbol;Acc:HGNC:9864]',\n",
       "       'neuroblastoma RAS viral (v-ras) oncogene homolog [Source:HGNC Symbol;Acc:HGNC:7989]',\n",
       "       'RAS p21 protein activator (GTPase activating protein) 1 [Source:HGNC Symbol;Acc:HGNC:9871]',\n",
       "       'BCL2-like 11 (apoptosis facilitator) [Source:HGNC Symbol;Acc:HGNC:994]',\n",
       "       'retinoblastoma 1 [Source:HGNC Symbol;Acc:HGNC:9884]',\n",
       "       'lysine (K)-specific demethylase 5A [Source:HGNC Symbol;Acc:HGNC:9886]',\n",
       "       'neurotrophic tyrosine kinase, receptor, type 1 [Source:HGNC Symbol;Acc:HGNC:8031]',\n",
       "       'neurotrophic tyrosine kinase, receptor, type 2 [Source:HGNC Symbol;Acc:HGNC:8032]',\n",
       "       'neurotrophic tyrosine kinase, receptor, type 3 [Source:HGNC Symbol;Acc:HGNC:8033]',\n",
       "       'dual specificity phosphatase 4 [Source:HGNC Symbol;Acc:HGNC:3070]',\n",
       "       'discoidin domain receptor tyrosine kinase 2 [Source:HGNC Symbol;Acc:HGNC:2731]',\n",
       "       'nuclear receptor binding SET domain protein 1 [Source:HGNC Symbol;Acc:HGNC:14234]',\n",
       "       'caspase 8, apoptosis-related cysteine peptidase [Source:HGNC Symbol;Acc:HGNC:1509]',\n",
       "       'ret proto-oncogene [Source:HGNC Symbol;Acc:HGNC:9967]',\n",
       "       'runt-related transcription factor 1 [Source:HGNC Symbol;Acc:HGNC:10471]'],\n",
       "      dtype=object)"
      ]
     },
     "execution_count": 59,
     "metadata": {},
     "output_type": "execute_result"
    }
   ],
   "source": [
    "trainvariants.Description.unique()"
   ]
  },
  {
   "cell_type": "code",
   "execution_count": null,
   "id": "8d4d4a85",
   "metadata": {},
   "outputs": [],
   "source": [
    "dic['gene']['description']"
   ]
  }
 ],
 "metadata": {
  "kernelspec": {
   "display_name": "local-venv",
   "language": "python",
   "name": "local-venv"
  },
  "language_info": {
   "codemirror_mode": {
    "name": "ipython",
    "version": 3
   },
   "file_extension": ".py",
   "mimetype": "text/x-python",
   "name": "python",
   "nbconvert_exporter": "python",
   "pygments_lexer": "ipython3",
   "version": "3.9.7"
  }
 },
 "nbformat": 4,
 "nbformat_minor": 5
}
