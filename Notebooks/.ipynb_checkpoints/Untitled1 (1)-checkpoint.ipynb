{
 "cells": [
  {
   "cell_type": "code",
   "execution_count": 37,
   "id": "d3ab372b",
   "metadata": {},
   "outputs": [
    {
     "name": "stdout",
     "output_type": "stream",
     "text": [
      "Collecting requests\n",
      "  Using cached requests-2.26.0-py2.py3-none-any.whl (62 kB)\n",
      "Collecting idna<4,>=2.5\n",
      "  Using cached idna-3.3-py3-none-any.whl (61 kB)\n",
      "Collecting charset-normalizer~=2.0.0\n",
      "  Downloading charset_normalizer-2.0.9-py3-none-any.whl (39 kB)\n",
      "Requirement already satisfied: certifi>=2017.4.17 in /home/cleonortiz/anaconda3/envs/computerv/lib/python3.9/site-packages (from requests) (2021.10.8)\n",
      "Collecting urllib3<1.27,>=1.21.1\n",
      "  Using cached urllib3-1.26.7-py2.py3-none-any.whl (138 kB)\n",
      "Installing collected packages: urllib3, idna, charset-normalizer, requests\n",
      "Successfully installed charset-normalizer-2.0.9 idna-3.3 requests-2.26.0 urllib3-1.26.7\n"
     ]
    }
   ],
   "source": [
    "!pip install requests"
   ]
  },
  {
   "cell_type": "code",
   "execution_count": 38,
   "id": "2dcf3bfd",
   "metadata": {
    "scrolled": true
   },
   "outputs": [],
   "source": [
    "import pandas as pd\n",
    "import requests"
   ]
  },
  {
   "cell_type": "code",
   "execution_count": 24,
   "id": "f0e0972f",
   "metadata": {
    "scrolled": true
   },
   "outputs": [
    {
     "data": {
      "text/html": [
       "<div>\n",
       "<style scoped>\n",
       "    .dataframe tbody tr th:only-of-type {\n",
       "        vertical-align: middle;\n",
       "    }\n",
       "\n",
       "    .dataframe tbody tr th {\n",
       "        vertical-align: top;\n",
       "    }\n",
       "\n",
       "    .dataframe thead th {\n",
       "        text-align: right;\n",
       "    }\n",
       "</style>\n",
       "<table border=\"1\" class=\"dataframe\">\n",
       "  <thead>\n",
       "    <tr style=\"text-align: right;\">\n",
       "      <th></th>\n",
       "      <th>ID</th>\n",
       "      <th>Gene</th>\n",
       "      <th>Variation</th>\n",
       "      <th>Class</th>\n",
       "    </tr>\n",
       "  </thead>\n",
       "  <tbody>\n",
       "    <tr>\n",
       "      <th>932</th>\n",
       "      <td>932</td>\n",
       "      <td>PDGFRB</td>\n",
       "      <td>R987W</td>\n",
       "      <td>1</td>\n",
       "    </tr>\n",
       "    <tr>\n",
       "      <th>2871</th>\n",
       "      <td>2871</td>\n",
       "      <td>BRCA2</td>\n",
       "      <td>R2659K</td>\n",
       "      <td>4</td>\n",
       "    </tr>\n",
       "    <tr>\n",
       "      <th>2898</th>\n",
       "      <td>2898</td>\n",
       "      <td>BRCA2</td>\n",
       "      <td>G1529R</td>\n",
       "      <td>6</td>\n",
       "    </tr>\n",
       "    <tr>\n",
       "      <th>1695</th>\n",
       "      <td>1695</td>\n",
       "      <td>PMS2</td>\n",
       "      <td>R802*</td>\n",
       "      <td>1</td>\n",
       "    </tr>\n",
       "    <tr>\n",
       "      <th>2200</th>\n",
       "      <td>2200</td>\n",
       "      <td>PTEN</td>\n",
       "      <td>C105F</td>\n",
       "      <td>4</td>\n",
       "    </tr>\n",
       "  </tbody>\n",
       "</table>\n",
       "</div>"
      ],
      "text/plain": [
       "        ID    Gene Variation  Class\n",
       "932    932  PDGFRB     R987W      1\n",
       "2871  2871   BRCA2    R2659K      4\n",
       "2898  2898   BRCA2    G1529R      6\n",
       "1695  1695    PMS2     R802*      1\n",
       "2200  2200    PTEN     C105F      4"
      ]
     },
     "execution_count": 24,
     "metadata": {},
     "output_type": "execute_result"
    }
   ],
   "source": [
    "trainvariants = pd.read_csv('../data/training_variants')\n",
    "trainvariants.sample(5)"
   ]
  },
  {
   "cell_type": "code",
   "execution_count": 6,
   "id": "4ffb765a",
   "metadata": {},
   "outputs": [],
   "source": [
    "traintext = pd.read_csv('../data/training_text',sep=\"\\|\\|\",engine=\"python\",names=[\"ID\",\"TEXT\"],skiprows=1)"
   ]
  },
  {
   "cell_type": "code",
   "execution_count": 7,
   "id": "39cb0dd9",
   "metadata": {
    "scrolled": true
   },
   "outputs": [
    {
     "data": {
      "text/html": [
       "<div>\n",
       "<style scoped>\n",
       "    .dataframe tbody tr th:only-of-type {\n",
       "        vertical-align: middle;\n",
       "    }\n",
       "\n",
       "    .dataframe tbody tr th {\n",
       "        vertical-align: top;\n",
       "    }\n",
       "\n",
       "    .dataframe thead th {\n",
       "        text-align: right;\n",
       "    }\n",
       "</style>\n",
       "<table border=\"1\" class=\"dataframe\">\n",
       "  <thead>\n",
       "    <tr style=\"text-align: right;\">\n",
       "      <th></th>\n",
       "      <th>ID</th>\n",
       "      <th>TEXT</th>\n",
       "    </tr>\n",
       "  </thead>\n",
       "  <tbody>\n",
       "    <tr>\n",
       "      <th>0</th>\n",
       "      <td>0</td>\n",
       "      <td>Cyclin-dependent kinases (CDKs) regulate a var...</td>\n",
       "    </tr>\n",
       "    <tr>\n",
       "      <th>1</th>\n",
       "      <td>1</td>\n",
       "      <td>Abstract Background  Non-small cell lung canc...</td>\n",
       "    </tr>\n",
       "    <tr>\n",
       "      <th>2</th>\n",
       "      <td>2</td>\n",
       "      <td>Abstract Background  Non-small cell lung canc...</td>\n",
       "    </tr>\n",
       "    <tr>\n",
       "      <th>3</th>\n",
       "      <td>3</td>\n",
       "      <td>Recent evidence has demonstrated that acquired...</td>\n",
       "    </tr>\n",
       "    <tr>\n",
       "      <th>4</th>\n",
       "      <td>4</td>\n",
       "      <td>Oncogenic mutations in the monomeric Casitas B...</td>\n",
       "    </tr>\n",
       "  </tbody>\n",
       "</table>\n",
       "</div>"
      ],
      "text/plain": [
       "   ID                                               TEXT\n",
       "0   0  Cyclin-dependent kinases (CDKs) regulate a var...\n",
       "1   1   Abstract Background  Non-small cell lung canc...\n",
       "2   2   Abstract Background  Non-small cell lung canc...\n",
       "3   3  Recent evidence has demonstrated that acquired...\n",
       "4   4  Oncogenic mutations in the monomeric Casitas B..."
      ]
     },
     "execution_count": 7,
     "metadata": {},
     "output_type": "execute_result"
    }
   ],
   "source": [
    "traintext.head()"
   ]
  },
  {
   "cell_type": "code",
   "execution_count": 20,
   "id": "f86152a4",
   "metadata": {
    "scrolled": true
   },
   "outputs": [
    {
     "name": "stdout",
     "output_type": "stream",
     "text": [
      "<class 'pandas.core.frame.DataFrame'>\n",
      "RangeIndex: 3321 entries, 0 to 3320\n",
      "Data columns (total 4 columns):\n",
      " #   Column     Non-Null Count  Dtype \n",
      "---  ------     --------------  ----- \n",
      " 0   ID         3321 non-null   int64 \n",
      " 1   Gene       3321 non-null   object\n",
      " 2   Variation  3321 non-null   object\n",
      " 3   Class      3321 non-null   int64 \n",
      "dtypes: int64(2), object(2)\n",
      "memory usage: 103.9+ KB\n"
     ]
    }
   ],
   "source": [
    "trainvariants.info()"
   ]
  },
  {
   "cell_type": "code",
   "execution_count": 21,
   "id": "074cda2e",
   "metadata": {},
   "outputs": [
    {
     "name": "stdout",
     "output_type": "stream",
     "text": [
      "<class 'pandas.core.frame.DataFrame'>\n",
      "RangeIndex: 3321 entries, 0 to 3320\n",
      "Data columns (total 2 columns):\n",
      " #   Column  Non-Null Count  Dtype \n",
      "---  ------  --------------  ----- \n",
      " 0   ID      3321 non-null   int64 \n",
      " 1   TEXT    3316 non-null   object\n",
      "dtypes: int64(1), object(1)\n",
      "memory usage: 52.0+ KB\n"
     ]
    }
   ],
   "source": [
    "traintext.info()"
   ]
  },
  {
   "cell_type": "code",
   "execution_count": 29,
   "id": "efcc4048",
   "metadata": {
    "scrolled": false
   },
   "outputs": [
    {
     "data": {
      "text/html": [
       "<div>\n",
       "<style scoped>\n",
       "    .dataframe tbody tr th:only-of-type {\n",
       "        vertical-align: middle;\n",
       "    }\n",
       "\n",
       "    .dataframe tbody tr th {\n",
       "        vertical-align: top;\n",
       "    }\n",
       "\n",
       "    .dataframe thead th {\n",
       "        text-align: right;\n",
       "    }\n",
       "</style>\n",
       "<table border=\"1\" class=\"dataframe\">\n",
       "  <thead>\n",
       "    <tr style=\"text-align: right;\">\n",
       "      <th></th>\n",
       "      <th>ID</th>\n",
       "      <th>TEXT</th>\n",
       "    </tr>\n",
       "  </thead>\n",
       "  <tbody>\n",
       "    <tr>\n",
       "      <th>0</th>\n",
       "      <td>0</td>\n",
       "      <td>Cyclin-dependent kinases (CDKs) regulate a var...</td>\n",
       "    </tr>\n",
       "    <tr>\n",
       "      <th>1</th>\n",
       "      <td>1</td>\n",
       "      <td>Abstract Background  Non-small cell lung canc...</td>\n",
       "    </tr>\n",
       "    <tr>\n",
       "      <th>2</th>\n",
       "      <td>2</td>\n",
       "      <td>Abstract Background  Non-small cell lung canc...</td>\n",
       "    </tr>\n",
       "    <tr>\n",
       "      <th>3</th>\n",
       "      <td>3</td>\n",
       "      <td>Recent evidence has demonstrated that acquired...</td>\n",
       "    </tr>\n",
       "    <tr>\n",
       "      <th>4</th>\n",
       "      <td>4</td>\n",
       "      <td>Oncogenic mutations in the monomeric Casitas B...</td>\n",
       "    </tr>\n",
       "  </tbody>\n",
       "</table>\n",
       "</div>"
      ],
      "text/plain": [
       "   ID                                               TEXT\n",
       "0   0  Cyclin-dependent kinases (CDKs) regulate a var...\n",
       "1   1   Abstract Background  Non-small cell lung canc...\n",
       "2   2   Abstract Background  Non-small cell lung canc...\n",
       "3   3  Recent evidence has demonstrated that acquired...\n",
       "4   4  Oncogenic mutations in the monomeric Casitas B..."
      ]
     },
     "execution_count": 29,
     "metadata": {},
     "output_type": "execute_result"
    }
   ],
   "source": [
    "traintext.head()"
   ]
  },
  {
   "cell_type": "code",
   "execution_count": 30,
   "id": "49121933",
   "metadata": {},
   "outputs": [
    {
     "data": {
      "text/plain": [
       "array(['FAM58A', 'CBL', 'SHOC2', 'TERT', 'DICER1', 'PTPRT', 'RHEB',\n",
       "       'SHQ1', 'CCND2', 'RAD50', 'CCND3', 'RIT1', 'CCNE1', 'RYBP',\n",
       "       'TGFBR1', 'TGFBR2', 'MSH6', 'KMT2D', 'LATS1', 'PBRM1', 'SF3B1',\n",
       "       'LATS2', 'EGFR', 'NKX2-1', 'EIF1AX', 'ARID2', 'BRD4', 'HIST1H1C',\n",
       "       'ERRFI1', 'CHEK2', 'PAK1', 'TMPRSS2', 'H3F3A', 'ELF3', 'ROS1',\n",
       "       'ASXL2', 'CDH1', 'EPCAM', 'EP300', 'EPAS1', 'TP53', 'TP53BP1',\n",
       "       'SMAD2', 'SMAD3', 'SMAD4', 'CDK4', 'AURKB', 'CDK6', 'FBXW7',\n",
       "       'CDK8', 'CDKN1A', 'CDKN1B', 'CDKN2A', 'CDKN2B', 'CDKN2C', 'ASXL1',\n",
       "       'ERBB2', 'ERBB3', 'ERBB4', 'ERCC2', 'BRIP1', 'ERCC3', 'ERCC4',\n",
       "       'ABL1', 'CEBPA', 'ERG', 'HLA-A', 'HLA-B', 'PDGFRA', 'PDGFRB',\n",
       "       'RBM10', 'KDM5C', 'ESR1', 'ETV1', 'ETV6', 'TSC1', 'IKZF1', 'TSC2',\n",
       "       'EWSR1', 'ACVR1', 'FOXA1', 'MDM2', 'ARID1A', 'EZH2', 'MDM4',\n",
       "       'KLF4', 'RXRA', 'MAP3K1', 'AXIN1', 'BAP1', 'MEN1', 'FANCA',\n",
       "       'FANCC', 'MET', 'U2AF1', 'KMT2C', 'FAT1', 'ARID1B', 'PIK3CA',\n",
       "       'PIK3CB', 'PIM1', 'PIK3CD', 'YAP1', 'PIK3R1', 'PIK3R2', 'ARID5B',\n",
       "       'HRAS', 'MLH1', 'FGF3', 'FGF4', 'KMT2A', 'AKT1', 'AKT2', 'FGFR1',\n",
       "       'FGFR3', 'SPOP', 'FGFR2', 'FGFR4', 'KDM6A', 'ALK', 'SDHB',\n",
       "       'RAD54L', 'SDHC', 'VEGFA', 'MPL', 'PMS1', 'CARM1', 'FOXO1', 'VHL',\n",
       "       'MAP2K4', 'RRAS2', 'FLT1', 'FLT3', 'PMS2', 'SRSF2', 'WHSC1',\n",
       "       'PPM1D', 'POLE', 'KNSTRN', 'PIK3R3', 'APC', 'RICTOR', 'MSH2',\n",
       "       'IDH1', 'IDH2', 'XPO1', 'XRCC2', 'CREBBP', 'AR', 'ARAF', 'RHOA',\n",
       "       'NCOR1', 'PPP2R1A', 'SETD2', 'IGF1R', 'PPP6C', 'CTCF', 'IKBKE',\n",
       "       'MTOR', 'TET1', 'SMARCA4', 'SMARCB1', 'FOXP1', 'SMO', 'CARD11',\n",
       "       'MEF2B', 'CTLA4', 'ATM', 'NUP93', 'MAPK1', 'CTNNB1', 'MAP2K1',\n",
       "       'MAP2K2', 'STAG2', 'IL7R', 'SOS1', 'MYC', 'MYCN', 'SOX9', 'TET2',\n",
       "       'MYD88', 'AGO2', 'KMT2B', 'ATR', 'ATRX', 'CDK12', 'AXL', 'MYOD1',\n",
       "       'B2M', 'SRC', 'GATA3', 'BARD1', 'CCND1', 'BCL2', 'KEAP1', 'PTCH1',\n",
       "       'PTEN', 'BCOR', 'RNF43', 'CIC', 'INPP4B', 'STAT3', 'WHSC1L1',\n",
       "       'PRDM1', 'JAK1', 'JAK2', 'AURKA', 'STK11', 'JUN', 'PTPN11', 'NF1',\n",
       "       'FOXL2', 'PTPRD', 'BRCA1', 'BRAF', 'BRCA2', 'NF2', 'PAX8',\n",
       "       'NFE2L2', 'GLI1', 'FUBP1', 'BTK', 'NFKBIA', 'GNA11', 'KDR',\n",
       "       'BCL10', 'GNAQ', 'GNAS', 'MGA', 'KIT', 'FGF19', 'MED12', 'NOTCH1',\n",
       "       'NOTCH2', 'RAC1', 'DNMT3A', 'DNMT3B', 'RAD21', 'RAD51C', 'RAD51B',\n",
       "       'RAD51D', 'KRAS', 'NPM1', 'RAF1', 'RAB35', 'HNF1A', 'AKT3', 'TCF3',\n",
       "       'TCF7L2', 'RARA', 'NRAS', 'RASA1', 'BCL2L11', 'RB1', 'KDM5A',\n",
       "       'NTRK1', 'NTRK2', 'NTRK3', 'DUSP4', 'DDR2', 'NSD1', 'CASP8', 'RET',\n",
       "       'RUNX1'], dtype=object)"
      ]
     },
     "execution_count": 30,
     "metadata": {},
     "output_type": "execute_result"
    }
   ],
   "source": [
    "trainvariants.Gene.unique()"
   ]
  },
  {
   "cell_type": "code",
   "execution_count": 35,
   "id": "0a268092",
   "metadata": {},
   "outputs": [
    {
     "data": {
      "text/plain": [
       "853            Y253H\n",
       "1601            Y98N\n",
       "1024          P1675L\n",
       "2747           G466R\n",
       "2991    E554_K558del\n",
       "1186           N345I\n",
       "278            G465E\n",
       "2320           D544H\n",
       "746            D821N\n",
       "671             G23D\n",
       "2753         Fusions\n",
       "2998    M552_K558del\n",
       "60             R453C\n",
       "2096        Deletion\n",
       "2597            S59R\n",
       "2026           N382H\n",
       "2926            I28T\n",
       "627            T205A\n",
       "1884          M2327I\n",
       "314            K320E\n",
       "Name: Variation, dtype: object"
      ]
     },
     "execution_count": 35,
     "metadata": {},
     "output_type": "execute_result"
    }
   ],
   "source": [
    "trainvariants.Variation.sample(20)"
   ]
  },
  {
   "cell_type": "code",
   "execution_count": 18,
   "id": "e5605d10",
   "metadata": {},
   "outputs": [
    {
     "name": "stdout",
     "output_type": "stream",
     "text": [
      "Number of different variants: 2996\n",
      "Number of columns: 3321\n"
     ]
    }
   ],
   "source": [
    "uvariants = trainvariants.Variation.unique().size\n",
    "nvariants = trainvariants.Variation.size\n",
    "\n",
    "print(f'Number of different variants: {uvariants}\\nNumber of columns: {nvariants}')"
   ]
  },
  {
   "cell_type": "code",
   "execution_count": 33,
   "id": "47e32141",
   "metadata": {},
   "outputs": [
    {
     "data": {
      "text/plain": [
       "'NTRK1'"
      ]
     },
     "execution_count": 33,
     "metadata": {},
     "output_type": "execute_result"
    }
   ],
   "source": [
    "trainvariants.Gene[3218]"
   ]
  },
  {
   "cell_type": "code",
   "execution_count": null,
   "id": "f0ea1b90",
   "metadata": {},
   "outputs": [],
   "source": [
    "Description = []\n",
    "for gen in trainvariants.Gene:\n",
    "    url = 'https://www.genenetwork.nl/api/v1/gene/' + gen\n",
    "    dic = requests.get(url).json()\n",
    "    Description.append(dic['gene']['description'])"
   ]
  },
  {
   "cell_type": "code",
   "execution_count": null,
   "id": "e28a8ee6",
   "metadata": {},
   "outputs": [],
   "source": [
    "trainvariants['Description'] = Description"
   ]
  },
  {
   "cell_type": "code",
   "execution_count": null,
   "id": "f254e87b",
   "metadata": {},
   "outputs": [],
   "source": [
    "dic['gene']['description']"
   ]
  }
 ],
 "metadata": {
  "kernelspec": {
   "display_name": "local-venv",
   "language": "python",
   "name": "local-venv"
  },
  "language_info": {
   "codemirror_mode": {
    "name": "ipython",
    "version": 3
   },
   "file_extension": ".py",
   "mimetype": "text/x-python",
   "name": "python",
   "nbconvert_exporter": "python",
   "pygments_lexer": "ipython3",
   "version": "3.9.7"
  }
 },
 "nbformat": 4,
 "nbformat_minor": 5
}
